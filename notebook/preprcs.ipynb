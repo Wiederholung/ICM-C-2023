{
 "cells": [
  {
   "cell_type": "code",
   "execution_count": 2,
   "metadata": {
    "collapsed": true
   },
   "outputs": [],
   "source": [
    "import pandas as pd\n",
    "import pandas_market_calendars as mcal"
   ]
  },
  {
   "cell_type": "code",
   "execution_count": 5,
   "outputs": [],
   "source": [
    "# df = pd.read_csv(\"https://raw.githubusercontent.com/Wiederholung/MCM-C-2023/main/data/Problem_C_Data.csv\")\n",
    "df = pd.read_csv(\"../data/Problem_C_Data.csv\")\n",
    "date_raw = df['Date']"
   ],
   "metadata": {
    "collapsed": false
   }
  },
  {
   "cell_type": "code",
   "execution_count": 7,
   "outputs": [],
   "source": [
    "# Define the NYSE trading calendar\n",
    "nyse = mcal.get_calendar('NYSE')\n",
    "\n",
    "i = 0\n",
    "for date in date_raw:\n",
    "    # Check if the date is a trading day\n",
    "    trading_day = nyse.valid_days(start_date=pd.to_datetime(date), end_date=pd.to_datetime(date))\n",
    "    if len(trading_day) == 1: df['is_workday'][i] = \"1\"\n",
    "    else: df['is_workday'][i] = \"0\"\n",
    "    i += 1\n",
    "\n",
    "df.to_csv(\"../data/Problem_C_Data.csv\", index=False)"
   ],
   "metadata": {
    "collapsed": false
   }
  },
  {
   "cell_type": "code",
   "execution_count": 9,
   "outputs": [
    {
     "name": "stderr",
     "output_type": "stream",
     "text": [
      "../model/glove\\glove.6B.zip: 862MB [02:43, 5.29MB/s]                               \n",
      "100%|█████████▉| 399999/400000 [00:12<00:00, 31538.18it/s]\n"
     ]
    }
   ],
   "source": [
    "from torchtext.vocab import GloVe\n",
    "import torch\n",
    "import numpy as np\n",
    "import pandas as pd\n",
    "import matplotlib.pyplot as plt\n",
    "\n",
    "GloVe_dim = 50\n",
    "# 从res/model加载glove模型\n",
    "glove = GloVe(name='6B', dim=GloVe_dim, cache='../model/glove')"
   ],
   "metadata": {
    "collapsed": false
   }
  }
 ],
 "metadata": {
  "kernelspec": {
   "display_name": "Python 3",
   "language": "python",
   "name": "python3"
  },
  "language_info": {
   "codemirror_mode": {
    "name": "ipython",
    "version": 2
   },
   "file_extension": ".py",
   "mimetype": "text/x-python",
   "name": "python",
   "nbconvert_exporter": "python",
   "pygments_lexer": "ipython2",
   "version": "2.7.6"
  }
 },
 "nbformat": 4,
 "nbformat_minor": 0
}
