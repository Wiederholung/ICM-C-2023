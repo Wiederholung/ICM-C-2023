{
 "cells": [
  {
   "cell_type": "code",
   "execution_count": 1,
   "outputs": [],
   "source": [
    "# 读取数据\n",
    "import pandas as pd\n",
    "\n",
    "# df = pd.read_csv(\"https://raw.githubusercontent.com/Wiederholung/MCM-C-2023/main/data/Problem_C_Data.csv\")\n",
    "df = pd.read_csv(\"../data/raw.csv\")\n",
    "date_raw = df['Date']"
   ],
   "metadata": {
    "collapsed": false
   }
  },
  {
   "cell_type": "code",
   "execution_count": 19,
   "outputs": [
    {
     "name": "stderr",
     "output_type": "stream",
     "text": [
      "C:\\Users\\Wiede\\AppData\\Local\\Temp\\ipykernel_2876\\3165071925.py:10: SettingWithCopyWarning: \n",
      "A value is trying to be set on a copy of a slice from a DataFrame\n",
      "\n",
      "See the caveats in the documentation: https://pandas.pydata.org/pandas-docs/stable/user_guide/indexing.html#returning-a-view-versus-a-copy\n",
      "  if len(trading_day) == 1: df['is_workday'][i] = \"1\"\n"
     ]
    }
   ],
   "source": [
    "# 判断是否为工作日\n",
    "import pandas_market_calendars as mcal\n",
    "\n",
    "# Define the NYSE trading calendar\n",
    "nyse = mcal.get_calendar('NYSE')\n",
    "\n",
    "i = 0\n",
    "for date in date_raw:\n",
    "    # Check if the date is a trading day\n",
    "    trading_day = nyse.valid_days(start_date=pd.to_datetime(date), end_date=pd.to_datetime(date))\n",
    "    if len(trading_day) == 1: df['is_workday'][i] = \"1\"\n",
    "    else: df['is_workday'][i] = \"0\"\n",
    "    i += 1\n",
    "\n",
    "df.to_csv(\"../data/raw_workday.csv\", index=False)"
   ],
   "metadata": {
    "collapsed": false
   }
  },
  {
   "cell_type": "code",
   "execution_count": 2,
   "outputs": [
    {
     "name": "stdout",
     "output_type": "stream",
     "text": [
      "marxh not in GloVe\n"
     ]
    }
   ],
   "source": [
    "# GloVe embedding\n",
    "from torchtext.vocab import GloVe\n",
    "import torch\n",
    "import numpy as np\n",
    "\n",
    "GloVe_dim = 50\n",
    "# 从res/model加载glove模型\n",
    "glove = GloVe(name='6B', dim=GloVe_dim, cache='../model/GloVe')\n",
    "words = df['Word']\n",
    "\n",
    "i = 0\n",
    "vecs = torch.zeros(len(words), GloVe_dim)\n",
    "for word in words:\n",
    "    if word in glove.stoi:\n",
    "        vecs[i] = glove.vectors[glove.stoi[word]]\n",
    "    else:\n",
    "        vecs[i] = torch.zeros(GloVe_dim)\n",
    "        print(word + \" not in GloVe\")\n",
    "    i += 1\n",
    "\n",
    "# 将vecs保存为csv\n",
    "vecs = vecs.numpy()\n",
    "np.savetxt(\"../data/GloVe_raw.csv\", vecs, delimiter=\",\")"
   ],
   "metadata": {
    "collapsed": false
   }
  },
  {
   "cell_type": "code",
   "execution_count": 8,
   "outputs": [
    {
     "name": "stderr",
     "output_type": "stream",
     "text": [
      "C:\\Users\\Wiede\\AppData\\Local\\Temp\\ipykernel_920\\2961879792.py:10: SettingWithCopyWarning: \n",
      "A value is trying to be set on a copy of a slice from a DataFrame\n",
      "\n",
      "See the caveats in the documentation: https://pandas.pydata.org/pandas-docs/stable/user_guide/indexing.html#returning-a-view-versus-a-copy\n",
      "  elif 4.52 <= atn: gv['difficulty'][i] = \"hard+\"\n"
     ]
    }
   ],
   "source": [
    "# 读取GloVe.csv\n",
    "gv = pd.read_csv(\"../data/GloVe.csv\")\n",
    "atns = gv['ATN']\n",
    "\n",
    "i = 0\n",
    "for atn in atns:\n",
    "    if atn < 3.98: gv['difficulty'][i] = \"easy\"\n",
    "    elif 3.98 <= atn < 4.21: gv['difficulty'][i] = \"normal\"\n",
    "    elif 4.21 <= atn < 4.52: gv['difficulty'][i] = \"hard\"\n",
    "    elif 4.52 <= atn: gv['difficulty'][i] = \"hard+\"\n",
    "    else: gv['difficulty'][i] = \"null\"\n",
    "    i += 1\n",
    "\n",
    "gv.to_csv(\"../data/GloVe_tag.csv\", index=False)"
   ],
   "metadata": {
    "collapsed": false
   }
  },
  {
   "cell_type": "code",
   "execution_count": 16,
   "outputs": [
    {
     "name": "stderr",
     "output_type": "stream",
     "text": [
      "C:\\Users\\Wiede\\AppData\\Local\\Temp\\ipykernel_920\\536470656.py:8: SettingWithCopyWarning: \n",
      "A value is trying to be set on a copy of a slice from a DataFrame\n",
      "\n",
      "See the caveats in the documentation: https://pandas.pydata.org/pandas-docs/stable/user_guide/indexing.html#returning-a-view-versus-a-copy\n",
      "  elif 4.277 <= atn < 8: attri['difficulty_2'][i] = \"hard\"\n",
      "C:\\Users\\Wiede\\AppData\\Local\\Temp\\ipykernel_920\\536470656.py:12: SettingWithCopyWarning: \n",
      "A value is trying to be set on a copy of a slice from a DataFrame\n",
      "\n",
      "See the caveats in the documentation: https://pandas.pydata.org/pandas-docs/stable/user_guide/indexing.html#returning-a-view-versus-a-copy\n",
      "  elif 4.139 <= atn < 6.98: attri['difficulty_3'][i] = \"normal\"\n",
      "C:\\Users\\Wiede\\AppData\\Local\\Temp\\ipykernel_920\\536470656.py:7: SettingWithCopyWarning: \n",
      "A value is trying to be set on a copy of a slice from a DataFrame\n",
      "\n",
      "See the caveats in the documentation: https://pandas.pydata.org/pandas-docs/stable/user_guide/indexing.html#returning-a-view-versus-a-copy\n",
      "  if 0 < atn < 4.277: attri['difficulty_2'][i] = \"easy\"\n"
     ]
    }
   ],
   "source": [
    "# 读取attri.csv\n",
    "attri = pd.read_csv(\"../data/attri.csv\")\n",
    "atns = attri['ATN']\n",
    "\n",
    "i = 0\n",
    "for atn in atns:\n",
    "    if 0 < atn < 4.277: attri['difficulty_2'][i] = \"easy\"\n",
    "    elif 4.277 <= atn < 8: attri['difficulty_2'][i] = \"hard\"\n",
    "    else: attri['difficulty_2'][i] = \"null\"\n",
    "\n",
    "    if 0 < atn < 4.139: attri['difficulty_3'][i] = \"easy\"\n",
    "    elif 4.139 <= atn < 6.98: attri['difficulty_3'][i] = \"normal\"\n",
    "    else: attri['difficulty_3'][i] = \"hard\"\n",
    "    i += 1\n",
    "\n",
    "attri.to_csv(\"../data/attri.csv\", index=False)"
   ],
   "metadata": {
    "collapsed": false
   }
  }
 ],
 "metadata": {
  "kernelspec": {
   "display_name": "Python 3",
   "language": "python",
   "name": "python3"
  },
  "language_info": {
   "codemirror_mode": {
    "name": "ipython",
    "version": 2
   },
   "file_extension": ".py",
   "mimetype": "text/x-python",
   "name": "python",
   "nbconvert_exporter": "python",
   "pygments_lexer": "ipython2",
   "version": "2.7.6"
  }
 },
 "nbformat": 4,
 "nbformat_minor": 0
}
