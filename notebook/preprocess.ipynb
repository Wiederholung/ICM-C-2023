{
 "cells": [
  {
   "cell_type": "code",
   "execution_count": 2,
   "metadata": {
    "collapsed": true
   },
   "outputs": [],
   "source": [
    "import pandas as pd\n",
    "import pandas_market_calendars as mcal"
   ]
  },
  {
   "cell_type": "code",
   "execution_count": 3,
   "outputs": [],
   "source": [
    "df = pd.read_csv(\"https://raw.githubusercontent.com/Wiederholung/MCM-C-2023/main/data/Problem_C_Data.csv\")\n",
    "date_raw = df['Date']"
   ],
   "metadata": {
    "collapsed": false
   }
  },
  {
   "cell_type": "code",
   "execution_count": 4,
   "outputs": [
    {
     "name": "stderr",
     "output_type": "stream",
     "text": [
      "C:\\Users\\Wiede\\AppData\\Local\\Temp\\ipykernel_24452\\1604703408.py:9: SettingWithCopyWarning: \n",
      "A value is trying to be set on a copy of a slice from a DataFrame\n",
      "\n",
      "See the caveats in the documentation: https://pandas.pydata.org/pandas-docs/stable/user_guide/indexing.html#returning-a-view-versus-a-copy\n",
      "  df['is_workday'][i] = \"1\"\n"
     ]
    }
   ],
   "source": [
    "# Define the NYSE trading calendar\n",
    "nyse = mcal.get_calendar('NYSE')\n",
    "\n",
    "i = 0\n",
    "for date in date_raw:\n",
    "    # Check if the date is a trading day\n",
    "    trading_day = nyse.valid_days(start_date=pd.to_datetime(date), end_date=pd.to_datetime(date))\n",
    "    if len(trading_day) == 1:\n",
    "        df['is_workday'][i] = \"1\"\n",
    "    else:\n",
    "        df['is_workday'][i] = \"0\"\n",
    "    i += 1\n",
    "\n",
    "# 保存为csv文件\n",
    "df.to_csv(\"Problem_C_Data.csv\")"
   ],
   "metadata": {
    "collapsed": false
   }
  }
 ],
 "metadata": {
  "kernelspec": {
   "display_name": "Python 3",
   "language": "python",
   "name": "python3"
  },
  "language_info": {
   "codemirror_mode": {
    "name": "ipython",
    "version": 2
   },
   "file_extension": ".py",
   "mimetype": "text/x-python",
   "name": "python",
   "nbconvert_exporter": "python",
   "pygments_lexer": "ipython2",
   "version": "2.7.6"
  }
 },
 "nbformat": 4,
 "nbformat_minor": 0
}
