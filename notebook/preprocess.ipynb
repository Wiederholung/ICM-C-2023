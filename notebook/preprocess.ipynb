{
 "cells": [
  {
   "cell_type": "code",
   "execution_count": 1,
   "metadata": {
    "collapsed": true
   },
   "outputs": [
    {
     "name": "stdout",
     "output_type": "stream",
     "text": [
      "February 19th, 2022 is not a working day.\n"
     ]
    }
   ],
   "source": [
    "import pandas as pd\n",
    "import pandas_market_calendars as mcal\n",
    "import datetime\n",
    "\n",
    "df = pd.read_csv()\n",
    "\n",
    "# Define the NYSE trading calendar\n"
   ]
  },
  {
   "cell_type": "code",
   "execution_count": null,
   "outputs": [],
   "source": [
    "nyse = mcal.get_calendar('NYSE')\n",
    "\n",
    "# Create a datetime object for February 19th, 2022\n",
    "date = datetime.datetime(2022, 2, 19)\n",
    "\n",
    "# Check if the date is a trading day\n",
    "trading_day = nyse.valid_days(start_date=date, end_date=date)\n",
    "\n",
    "if len(trading_day) == 1:\n",
    "    print('February 19th, 2022 is a working day.')\n",
    "else:\n",
    "    print('February 19th, 2022 is not a working day.')"
   ],
   "metadata": {
    "collapsed": false
   }
  }
 ],
 "metadata": {
  "kernelspec": {
   "display_name": "Python 3",
   "language": "python",
   "name": "python3"
  },
  "language_info": {
   "codemirror_mode": {
    "name": "ipython",
    "version": 2
   },
   "file_extension": ".py",
   "mimetype": "text/x-python",
   "name": "python",
   "nbconvert_exporter": "python",
   "pygments_lexer": "ipython2",
   "version": "2.7.6"
  }
 },
 "nbformat": 4,
 "nbformat_minor": 0
}
